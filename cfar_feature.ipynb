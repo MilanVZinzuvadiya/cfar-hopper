{
 "cells": [
  {
   "cell_type": "markdown",
   "id": "fbe4b645-0bd3-4097-afbc-ebec90023025",
   "metadata": {},
   "source": [
    "# CFAR Feature\n",
    "##### by Milan Zinzuvadiya\n",
    "### Index\n",
    "#### 1. Data Exploration and Analysis\n",
    "##### ---a. selecting fields for data exploration\n",
    "##### ---b. Calculating CFAR price for break even business\n",
    "##### ---c. CFAR price based on round or one way trip\n",
    "##### ---d. Explore fare_price based tendancy of purchase\n",
    "#### 2. ML Model for predicting CFAR User i.e. classifying attached field\n",
    "##### ---a. Preparing Data\n",
    "###### ------i. Encoding String based data\n",
    "##### ---b. Model Selection and Evaluating Classification\n",
    "###### ------  F1_score, Accuracy_score, Precision and recall score\n",
    "#### 3. ML Model for predicting exercise probabilty i.e. classifying exercised field\n",
    "##### ---a. Preparing Data i.e. selecting attached data for this model\n",
    "##### ---b. Model Selection and Evaluating Classification\n",
    "###### ------  F1_score, Accuracy_score, Precision and recall score"
   ]
  },
  {
   "cell_type": "markdown",
   "id": "d2a8c85c-2cea-468f-afa8-56cb984fb17b",
   "metadata": {},
   "source": [
    "### importing data and libraries"
   ]
  },
  {
   "cell_type": "code",
   "execution_count": 1,
   "id": "37921f45-b883-4669-92dd-c266137c88f2",
   "metadata": {},
   "outputs": [],
   "source": [
    "import pandas as pd\n",
    "import matplotlib.pyplot as plt"
   ]
  },
  {
   "cell_type": "code",
   "execution_count": 2,
   "id": "000ffc93-9391-4566-a4e0-e61b8e4307f0",
   "metadata": {},
   "outputs": [],
   "source": [
    "cfar_data = pd.read_csv('cfar_data.csv')"
   ]
  },
  {
   "cell_type": "code",
   "execution_count": 3,
   "id": "347d79d1-d72d-4898-8b2c-f1793749fde5",
   "metadata": {},
   "outputs": [
    {
     "data": {
      "text/html": [
       "<div>\n",
       "<style scoped>\n",
       "    .dataframe tbody tr th:only-of-type {\n",
       "        vertical-align: middle;\n",
       "    }\n",
       "\n",
       "    .dataframe tbody tr th {\n",
       "        vertical-align: top;\n",
       "    }\n",
       "\n",
       "    .dataframe thead th {\n",
       "        text-align: right;\n",
       "    }\n",
       "</style>\n",
       "<table border=\"1\" class=\"dataframe\">\n",
       "  <thead>\n",
       "    <tr style=\"text-align: right;\">\n",
       "      <th></th>\n",
       "      <th>booking_date_utc</th>\n",
       "      <th>departure_date_utc</th>\n",
       "      <th>return_date_utc</th>\n",
       "      <th>airport_origin</th>\n",
       "      <th>airport_destination</th>\n",
       "      <th>country_origin</th>\n",
       "      <th>country_destination</th>\n",
       "      <th>airline</th>\n",
       "      <th>fare_price</th>\n",
       "      <th>shelf_level</th>\n",
       "      <th>advance</th>\n",
       "      <th>num_pax</th>\n",
       "      <th>trip_type</th>\n",
       "      <th>premium_pct</th>\n",
       "      <th>premium_per_pax</th>\n",
       "      <th>attached</th>\n",
       "      <th>exercised</th>\n",
       "    </tr>\n",
       "  </thead>\n",
       "  <tbody>\n",
       "    <tr>\n",
       "      <th>0</th>\n",
       "      <td>2022-06-03 10:54:18.793 UTC</td>\n",
       "      <td>2022-06-29 07:45:00 UTC</td>\n",
       "      <td>2022-07-01 02:45:00 UTC</td>\n",
       "      <td>DPS</td>\n",
       "      <td>LBJ</td>\n",
       "      <td>ID</td>\n",
       "      <td>ID</td>\n",
       "      <td>QZ</td>\n",
       "      <td>$123.22</td>\n",
       "      <td>1</td>\n",
       "      <td>26</td>\n",
       "      <td>1</td>\n",
       "      <td>r</td>\n",
       "      <td>28.00%</td>\n",
       "      <td>$35.00</td>\n",
       "      <td>1</td>\n",
       "      <td>0</td>\n",
       "    </tr>\n",
       "    <tr>\n",
       "      <th>1</th>\n",
       "      <td>2022-08-31 13:32:55.511 UTC</td>\n",
       "      <td>2022-10-09 14:25:00 UTC</td>\n",
       "      <td>NaN</td>\n",
       "      <td>ORY</td>\n",
       "      <td>CTA</td>\n",
       "      <td>FR</td>\n",
       "      <td>IT</td>\n",
       "      <td>TO</td>\n",
       "      <td>$44.66</td>\n",
       "      <td>0</td>\n",
       "      <td>39</td>\n",
       "      <td>1</td>\n",
       "      <td>o</td>\n",
       "      <td>30.00%</td>\n",
       "      <td>$13.01</td>\n",
       "      <td>0</td>\n",
       "      <td>0</td>\n",
       "    </tr>\n",
       "    <tr>\n",
       "      <th>2</th>\n",
       "      <td>2022-08-31 11:22:04.11 UTC</td>\n",
       "      <td>2022-08-31 18:25:00 UTC</td>\n",
       "      <td>NaN</td>\n",
       "      <td>MEX</td>\n",
       "      <td>CUN</td>\n",
       "      <td>MX</td>\n",
       "      <td>MX</td>\n",
       "      <td>VB</td>\n",
       "      <td>$67.19</td>\n",
       "      <td>1</td>\n",
       "      <td>0</td>\n",
       "      <td>2</td>\n",
       "      <td>o</td>\n",
       "      <td>20.00%</td>\n",
       "      <td>$13.45</td>\n",
       "      <td>0</td>\n",
       "      <td>0</td>\n",
       "    </tr>\n",
       "    <tr>\n",
       "      <th>3</th>\n",
       "      <td>2022-06-19 21:51:45.279 UTC</td>\n",
       "      <td>2022-09-12 10:30:00 UTC</td>\n",
       "      <td>NaN</td>\n",
       "      <td>YHZ</td>\n",
       "      <td>YYZ</td>\n",
       "      <td>CA</td>\n",
       "      <td>CA</td>\n",
       "      <td>WO</td>\n",
       "      <td>$136.57</td>\n",
       "      <td>0</td>\n",
       "      <td>85</td>\n",
       "      <td>2</td>\n",
       "      <td>r</td>\n",
       "      <td>17.00%</td>\n",
       "      <td>$22.25</td>\n",
       "      <td>0</td>\n",
       "      <td>0</td>\n",
       "    </tr>\n",
       "    <tr>\n",
       "      <th>4</th>\n",
       "      <td>2022-09-09 02:49:57.983 UTC</td>\n",
       "      <td>2022-10-01 00:45:00 UTC</td>\n",
       "      <td>2022-10-03 15:15:00 UTC</td>\n",
       "      <td>JFK</td>\n",
       "      <td>MIA</td>\n",
       "      <td>US</td>\n",
       "      <td>US</td>\n",
       "      <td>B6</td>\n",
       "      <td>$173.20</td>\n",
       "      <td>0</td>\n",
       "      <td>22</td>\n",
       "      <td>1</td>\n",
       "      <td>r</td>\n",
       "      <td>16.00%</td>\n",
       "      <td>$28.00</td>\n",
       "      <td>1</td>\n",
       "      <td>1</td>\n",
       "    </tr>\n",
       "  </tbody>\n",
       "</table>\n",
       "</div>"
      ],
      "text/plain": [
       "              booking_date_utc       departure_date_utc  \\\n",
       "0  2022-06-03 10:54:18.793 UTC  2022-06-29 07:45:00 UTC   \n",
       "1  2022-08-31 13:32:55.511 UTC  2022-10-09 14:25:00 UTC   \n",
       "2   2022-08-31 11:22:04.11 UTC  2022-08-31 18:25:00 UTC   \n",
       "3  2022-06-19 21:51:45.279 UTC  2022-09-12 10:30:00 UTC   \n",
       "4  2022-09-09 02:49:57.983 UTC  2022-10-01 00:45:00 UTC   \n",
       "\n",
       "           return_date_utc airport_origin airport_destination country_origin  \\\n",
       "0  2022-07-01 02:45:00 UTC            DPS                 LBJ             ID   \n",
       "1                      NaN            ORY                 CTA             FR   \n",
       "2                      NaN            MEX                 CUN             MX   \n",
       "3                      NaN            YHZ                 YYZ             CA   \n",
       "4  2022-10-03 15:15:00 UTC            JFK                 MIA             US   \n",
       "\n",
       "  country_destination airline fare_price  shelf_level  advance  num_pax  \\\n",
       "0                  ID      QZ   $123.22             1       26        1   \n",
       "1                  IT      TO    $44.66             0       39        1   \n",
       "2                  MX      VB    $67.19             1        0        2   \n",
       "3                  CA      WO   $136.57             0       85        2   \n",
       "4                  US      B6   $173.20             0       22        1   \n",
       "\n",
       "  trip_type premium_pct premium_per_pax  attached  exercised  \n",
       "0         r      28.00%         $35.00          1          0  \n",
       "1         o      30.00%         $13.01          0          0  \n",
       "2         o      20.00%         $13.45          0          0  \n",
       "3         r      17.00%         $22.25          0          0  \n",
       "4         r      16.00%         $28.00          1          1  "
      ]
     },
     "execution_count": 3,
     "metadata": {},
     "output_type": "execute_result"
    }
   ],
   "source": [
    "cfar_data.head(5)"
   ]
  },
  {
   "cell_type": "markdown",
   "id": "f5331224-6da6-487c-8e4a-69f65e2885ac",
   "metadata": {},
   "source": [
    "# DATA exploration and analysis"
   ]
  },
  {
   "cell_type": "markdown",
   "id": "def54976-4ed1-46fd-a2ef-19877c201e63",
   "metadata": {},
   "source": [
    "#### Selecting Few Fields to perform analysis for CFAR feature pricing\n",
    "Selecting a few fileds to perform analyss. NOTE:This is sample analyis. This can be replicated with adding more fields. example includes time-based analysis such as seasonal trend on purchasing CFAR feature,advance and CFAR feature purchase association, Airline to CFAR feature attached as well as exercised association"
   ]
  },
  {
   "cell_type": "code",
   "execution_count": 4,
   "id": "a103a3cc-ab5b-4c90-af88-50ebeb8a35de",
   "metadata": {},
   "outputs": [
    {
     "data": {
      "text/html": [
       "<div>\n",
       "<style scoped>\n",
       "    .dataframe tbody tr th:only-of-type {\n",
       "        vertical-align: middle;\n",
       "    }\n",
       "\n",
       "    .dataframe tbody tr th {\n",
       "        vertical-align: top;\n",
       "    }\n",
       "\n",
       "    .dataframe thead th {\n",
       "        text-align: right;\n",
       "    }\n",
       "</style>\n",
       "<table border=\"1\" class=\"dataframe\">\n",
       "  <thead>\n",
       "    <tr style=\"text-align: right;\">\n",
       "      <th></th>\n",
       "      <th>country_origin</th>\n",
       "      <th>country_destination</th>\n",
       "      <th>fare_price</th>\n",
       "      <th>shelf_level</th>\n",
       "      <th>trip_type</th>\n",
       "      <th>attached</th>\n",
       "      <th>exercised</th>\n",
       "    </tr>\n",
       "  </thead>\n",
       "  <tbody>\n",
       "    <tr>\n",
       "      <th>0</th>\n",
       "      <td>ID</td>\n",
       "      <td>ID</td>\n",
       "      <td>$123.22</td>\n",
       "      <td>1</td>\n",
       "      <td>r</td>\n",
       "      <td>1</td>\n",
       "      <td>0</td>\n",
       "    </tr>\n",
       "    <tr>\n",
       "      <th>1</th>\n",
       "      <td>FR</td>\n",
       "      <td>IT</td>\n",
       "      <td>$44.66</td>\n",
       "      <td>0</td>\n",
       "      <td>o</td>\n",
       "      <td>0</td>\n",
       "      <td>0</td>\n",
       "    </tr>\n",
       "    <tr>\n",
       "      <th>2</th>\n",
       "      <td>MX</td>\n",
       "      <td>MX</td>\n",
       "      <td>$67.19</td>\n",
       "      <td>1</td>\n",
       "      <td>o</td>\n",
       "      <td>0</td>\n",
       "      <td>0</td>\n",
       "    </tr>\n",
       "    <tr>\n",
       "      <th>3</th>\n",
       "      <td>CA</td>\n",
       "      <td>CA</td>\n",
       "      <td>$136.57</td>\n",
       "      <td>0</td>\n",
       "      <td>r</td>\n",
       "      <td>0</td>\n",
       "      <td>0</td>\n",
       "    </tr>\n",
       "    <tr>\n",
       "      <th>4</th>\n",
       "      <td>US</td>\n",
       "      <td>US</td>\n",
       "      <td>$173.20</td>\n",
       "      <td>0</td>\n",
       "      <td>r</td>\n",
       "      <td>1</td>\n",
       "      <td>1</td>\n",
       "    </tr>\n",
       "  </tbody>\n",
       "</table>\n",
       "</div>"
      ],
      "text/plain": [
       "  country_origin country_destination fare_price  shelf_level trip_type  \\\n",
       "0             ID                  ID   $123.22             1         r   \n",
       "1             FR                  IT    $44.66             0         o   \n",
       "2             MX                  MX    $67.19             1         o   \n",
       "3             CA                  CA   $136.57             0         r   \n",
       "4             US                  US   $173.20             0         r   \n",
       "\n",
       "   attached  exercised  \n",
       "0         1          0  \n",
       "1         0          0  \n",
       "2         0          0  \n",
       "3         0          0  \n",
       "4         1          1  "
      ]
     },
     "execution_count": 4,
     "metadata": {},
     "output_type": "execute_result"
    }
   ],
   "source": [
    "selected_CFAR= cfar_data[['country_origin','country_destination','fare_price','shelf_level','trip_type','attached','exercised']]\n",
    "selected_CFAR.head(5)"
   ]
  },
  {
   "cell_type": "code",
   "execution_count": 5,
   "id": "d026a5e0-9cdb-406f-b23d-f81e9a2151c9",
   "metadata": {},
   "outputs": [
    {
     "name": "stderr",
     "output_type": "stream",
     "text": [
      "C:\\ProgramData\\Anaconda3\\envs\\py37\\lib\\site-packages\\ipykernel_launcher.py:2: SettingWithCopyWarning: \n",
      "A value is trying to be set on a copy of a slice from a DataFrame.\n",
      "Try using .loc[row_indexer,col_indexer] = value instead\n",
      "\n",
      "See the caveats in the documentation: https://pandas.pydata.org/pandas-docs/stable/user_guide/indexing.html#returning-a-view-versus-a-copy\n",
      "  \n"
     ]
    },
    {
     "data": {
      "text/html": [
       "<div>\n",
       "<style scoped>\n",
       "    .dataframe tbody tr th:only-of-type {\n",
       "        vertical-align: middle;\n",
       "    }\n",
       "\n",
       "    .dataframe tbody tr th {\n",
       "        vertical-align: top;\n",
       "    }\n",
       "\n",
       "    .dataframe thead th {\n",
       "        text-align: right;\n",
       "    }\n",
       "</style>\n",
       "<table border=\"1\" class=\"dataframe\">\n",
       "  <thead>\n",
       "    <tr style=\"text-align: right;\">\n",
       "      <th></th>\n",
       "      <th>country_origin</th>\n",
       "      <th>country_destination</th>\n",
       "      <th>fare_price</th>\n",
       "      <th>shelf_level</th>\n",
       "      <th>trip_type</th>\n",
       "      <th>attached</th>\n",
       "      <th>exercised</th>\n",
       "    </tr>\n",
       "  </thead>\n",
       "  <tbody>\n",
       "    <tr>\n",
       "      <th>0</th>\n",
       "      <td>ID</td>\n",
       "      <td>ID</td>\n",
       "      <td>123.22</td>\n",
       "      <td>1</td>\n",
       "      <td>r</td>\n",
       "      <td>1</td>\n",
       "      <td>0</td>\n",
       "    </tr>\n",
       "    <tr>\n",
       "      <th>1</th>\n",
       "      <td>FR</td>\n",
       "      <td>IT</td>\n",
       "      <td>44.66</td>\n",
       "      <td>0</td>\n",
       "      <td>o</td>\n",
       "      <td>0</td>\n",
       "      <td>0</td>\n",
       "    </tr>\n",
       "    <tr>\n",
       "      <th>2</th>\n",
       "      <td>MX</td>\n",
       "      <td>MX</td>\n",
       "      <td>67.19</td>\n",
       "      <td>1</td>\n",
       "      <td>o</td>\n",
       "      <td>0</td>\n",
       "      <td>0</td>\n",
       "    </tr>\n",
       "    <tr>\n",
       "      <th>3</th>\n",
       "      <td>CA</td>\n",
       "      <td>CA</td>\n",
       "      <td>136.57</td>\n",
       "      <td>0</td>\n",
       "      <td>r</td>\n",
       "      <td>0</td>\n",
       "      <td>0</td>\n",
       "    </tr>\n",
       "    <tr>\n",
       "      <th>4</th>\n",
       "      <td>US</td>\n",
       "      <td>US</td>\n",
       "      <td>173.20</td>\n",
       "      <td>0</td>\n",
       "      <td>r</td>\n",
       "      <td>1</td>\n",
       "      <td>1</td>\n",
       "    </tr>\n",
       "    <tr>\n",
       "      <th>...</th>\n",
       "      <td>...</td>\n",
       "      <td>...</td>\n",
       "      <td>...</td>\n",
       "      <td>...</td>\n",
       "      <td>...</td>\n",
       "      <td>...</td>\n",
       "      <td>...</td>\n",
       "    </tr>\n",
       "    <tr>\n",
       "      <th>87494</th>\n",
       "      <td>GT</td>\n",
       "      <td>CR</td>\n",
       "      <td>249.22</td>\n",
       "      <td>1</td>\n",
       "      <td>r</td>\n",
       "      <td>0</td>\n",
       "      <td>0</td>\n",
       "    </tr>\n",
       "    <tr>\n",
       "      <th>87495</th>\n",
       "      <td>US</td>\n",
       "      <td>MX</td>\n",
       "      <td>352.95</td>\n",
       "      <td>1</td>\n",
       "      <td>o</td>\n",
       "      <td>0</td>\n",
       "      <td>0</td>\n",
       "    </tr>\n",
       "    <tr>\n",
       "      <th>87496</th>\n",
       "      <td>MX</td>\n",
       "      <td>US</td>\n",
       "      <td>304.79</td>\n",
       "      <td>0</td>\n",
       "      <td>o</td>\n",
       "      <td>0</td>\n",
       "      <td>0</td>\n",
       "    </tr>\n",
       "    <tr>\n",
       "      <th>87497</th>\n",
       "      <td>MX</td>\n",
       "      <td>CO</td>\n",
       "      <td>149.71</td>\n",
       "      <td>0</td>\n",
       "      <td>o</td>\n",
       "      <td>0</td>\n",
       "      <td>0</td>\n",
       "    </tr>\n",
       "    <tr>\n",
       "      <th>87498</th>\n",
       "      <td>MX</td>\n",
       "      <td>MX</td>\n",
       "      <td>161.66</td>\n",
       "      <td>1</td>\n",
       "      <td>r</td>\n",
       "      <td>0</td>\n",
       "      <td>0</td>\n",
       "    </tr>\n",
       "  </tbody>\n",
       "</table>\n",
       "<p>87499 rows × 7 columns</p>\n",
       "</div>"
      ],
      "text/plain": [
       "      country_origin country_destination  fare_price  shelf_level trip_type  \\\n",
       "0                 ID                  ID      123.22            1         r   \n",
       "1                 FR                  IT       44.66            0         o   \n",
       "2                 MX                  MX       67.19            1         o   \n",
       "3                 CA                  CA      136.57            0         r   \n",
       "4                 US                  US      173.20            0         r   \n",
       "...              ...                 ...         ...          ...       ...   \n",
       "87494             GT                  CR      249.22            1         r   \n",
       "87495             US                  MX      352.95            1         o   \n",
       "87496             MX                  US      304.79            0         o   \n",
       "87497             MX                  CO      149.71            0         o   \n",
       "87498             MX                  MX      161.66            1         r   \n",
       "\n",
       "       attached  exercised  \n",
       "0             1          0  \n",
       "1             0          0  \n",
       "2             0          0  \n",
       "3             0          0  \n",
       "4             1          1  \n",
       "...         ...        ...  \n",
       "87494         0          0  \n",
       "87495         0          0  \n",
       "87496         0          0  \n",
       "87497         0          0  \n",
       "87498         0          0  \n",
       "\n",
       "[87499 rows x 7 columns]"
      ]
     },
     "execution_count": 5,
     "metadata": {},
     "output_type": "execute_result"
    }
   ],
   "source": [
    "# remove $sign and making it float\n",
    "selected_CFAR['fare_price'] = selected_CFAR['fare_price'].apply(lambda x: float(x[1:].replace(',','')))\n",
    "selected_CFAR"
   ]
  },
  {
   "cell_type": "markdown",
   "id": "bb30a3e4-38b2-457b-ac55-e6ebff4f9c5f",
   "metadata": {},
   "source": [
    "## Estimate CFAR price value by seeing USER tendancy to attched feature"
   ]
  },
  {
   "cell_type": "code",
   "execution_count": 6,
   "id": "639eff93-8b81-4553-b204-560a33e33720",
   "metadata": {},
   "outputs": [
    {
     "data": {
      "text/plain": [
       "4483"
      ]
     },
     "execution_count": 6,
     "metadata": {},
     "output_type": "execute_result"
    }
   ],
   "source": [
    "len(selected_CFAR[selected_CFAR['attached']==1])"
   ]
  },
  {
   "cell_type": "code",
   "execution_count": 7,
   "id": "987d9fa1-3eeb-4316-a8c3-ae047aa0ea1b",
   "metadata": {},
   "outputs": [
    {
     "data": {
      "text/plain": [
       "613"
      ]
     },
     "execution_count": 7,
     "metadata": {},
     "output_type": "execute_result"
    }
   ],
   "source": [
    "len(selected_CFAR[(selected_CFAR['attached']==1) & (selected_CFAR['exercised']==1)])"
   ]
  },
  {
   "cell_type": "code",
   "execution_count": 8,
   "id": "0e7b2cb5-1885-4a6f-b20b-b48aec2c851d",
   "metadata": {},
   "outputs": [
    {
     "data": {
      "text/plain": [
       "0.13673879098817757"
      ]
     },
     "execution_count": 8,
     "metadata": {},
     "output_type": "execute_result"
    }
   ],
   "source": [
    "len(selected_CFAR[(selected_CFAR['attached']==1) & (selected_CFAR['exercised']==1) ])/len(selected_CFAR[selected_CFAR['attached']==1])"
   ]
  },
  {
   "cell_type": "code",
   "execution_count": 9,
   "id": "e913b3e4-d4de-4fa7-a524-e1ab56d17ae6",
   "metadata": {},
   "outputs": [
    {
     "data": {
      "text/plain": [
       "87499"
      ]
     },
     "execution_count": 9,
     "metadata": {},
     "output_type": "execute_result"
    }
   ],
   "source": [
    "len(selected_CFAR)"
   ]
  },
  {
   "cell_type": "code",
   "execution_count": 10,
   "id": "a80c24c9-1fce-46c2-bda7-988108ab2175",
   "metadata": {},
   "outputs": [
    {
     "data": {
      "text/plain": [
       "0.05123487125567149"
      ]
     },
     "execution_count": 10,
     "metadata": {},
     "output_type": "execute_result"
    }
   ],
   "source": [
    "len(selected_CFAR[selected_CFAR['attached']==1])/len(selected_CFAR)"
   ]
  },
  {
   "cell_type": "markdown",
   "id": "baf28584-66ff-4737-b60f-14578ad728c6",
   "metadata": {},
   "source": [
    "#### 5.12% Users preferred CFAR feature\n",
    "#### 13.67% Users claimed CFAR feature for cancellation"
   ]
  },
  {
   "cell_type": "markdown",
   "id": "59187612-0643-47d7-af42-fcfde9bfa5bb",
   "metadata": {},
   "source": [
    "### Calculate CFAR price in which we have break even for given data set\n",
    "Here I took following assumption that everytime user cancel Company needs to refund fare_price to the user."
   ]
  },
  {
   "cell_type": "code",
   "execution_count": 11,
   "id": "c078442e-7415-45c6-8d1f-95ed47e8a9d1",
   "metadata": {},
   "outputs": [],
   "source": [
    "def revenue_from_CFAR(CFAR_price_per):\n",
    "    return sum(selected_CFAR[selected_CFAR['attached']==1]['fare_price']*(CFAR_price_per/100.0))"
   ]
  },
  {
   "cell_type": "code",
   "execution_count": 12,
   "id": "ad838b5f-e64c-4215-b5f1-ce87c3de1b79",
   "metadata": {},
   "outputs": [],
   "source": [
    "def cancellation_refund(refund_per):\n",
    "    return sum(selected_CFAR[(selected_CFAR['attached']==1) & (selected_CFAR['exercised']==1)]['fare_price']*(refund_per/100.0))"
   ]
  },
  {
   "cell_type": "code",
   "execution_count": 13,
   "id": "41800f1c-5a6a-475c-96d9-cab3c3a5f7af",
   "metadata": {},
   "outputs": [
    {
     "data": {
      "text/plain": [
       "148771.74163499934"
      ]
     },
     "execution_count": 13,
     "metadata": {},
     "output_type": "execute_result"
    }
   ],
   "source": [
    "revenue_from_CFAR(12.925)"
   ]
  },
  {
   "cell_type": "code",
   "execution_count": 14,
   "id": "92703bd6-0738-4d7b-9bd8-d9896e39df1c",
   "metadata": {},
   "outputs": [
    {
     "data": {
      "text/plain": [
       "148757.35000000033"
      ]
     },
     "execution_count": 14,
     "metadata": {},
     "output_type": "execute_result"
    }
   ],
   "source": [
    "cancellation_refund(100.0)"
   ]
  },
  {
   "cell_type": "code",
   "execution_count": 15,
   "id": "b3cc8029-5d9a-487a-bf53-ca4c60cd5c53",
   "metadata": {},
   "outputs": [
    {
     "data": {
      "text/plain": [
       "0.00365225036512129"
      ]
     },
     "execution_count": 15,
     "metadata": {},
     "output_type": "execute_result"
    }
   ],
   "source": [
    "profit = revenue_from_CFAR(12.92375) - cancellation_refund(100.0)\n",
    "profit"
   ]
  },
  {
   "cell_type": "markdown",
   "id": "71b3736d-eca0-458c-8f14-3a494cb658f7",
   "metadata": {},
   "source": [
    "As we can see that by setting CFAR feature price at 12.92375% of fare_price , we can generate revenue which cancel out pay-offs.\n",
    "\n",
    "While in case of cancellation, We need to pay 148757$ revenue. \n",
    "\n",
    "Which translate as having profit of 0.00$."
   ]
  },
  {
   "cell_type": "markdown",
   "id": "93156cd6-4737-4f18-a37f-c730572c86a2",
   "metadata": {},
   "source": [
    "#### It is safe to set 15% fare price as CFAR feature Price according to sample data."
   ]
  },
  {
   "cell_type": "markdown",
   "id": "62ff7387-0b53-40e1-b02a-454190224f11",
   "metadata": {},
   "source": [
    "### CFAR price based on round or one way trip"
   ]
  },
  {
   "cell_type": "code",
   "execution_count": 16,
   "id": "c26c59f1-867a-4cbb-aae7-12d93fe72997",
   "metadata": {},
   "outputs": [
    {
     "name": "stdout",
     "output_type": "stream",
     "text": [
      "Total r trip CFAR Users\n"
     ]
    },
    {
     "data": {
      "text/plain": [
       "2579"
      ]
     },
     "execution_count": 16,
     "metadata": {},
     "output_type": "execute_result"
    }
   ],
   "source": [
    "print('Total r trip CFAR Users')\n",
    "r_TCUsers = len(selected_CFAR[(selected_CFAR['attached']==1) &(selected_CFAR['trip_type']=='r')])\n",
    "r_TCUsers"
   ]
  },
  {
   "cell_type": "code",
   "execution_count": 17,
   "id": "232629fd-eeda-4391-bc74-1f90eb594daa",
   "metadata": {},
   "outputs": [
    {
     "name": "stdout",
     "output_type": "stream",
     "text": [
      "Total r trip CFAR Users who exercised CFAR\n"
     ]
    },
    {
     "data": {
      "text/plain": [
       "340"
      ]
     },
     "execution_count": 17,
     "metadata": {},
     "output_type": "execute_result"
    }
   ],
   "source": [
    "print('Total r trip CFAR Users who exercised CFAR')\n",
    "r_ECUsers= len(selected_CFAR[(selected_CFAR['attached']==1) &(selected_CFAR['trip_type']=='r') &(selected_CFAR['exercised']==1)])\n",
    "r_ECUsers"
   ]
  },
  {
   "cell_type": "code",
   "execution_count": 18,
   "id": "608b8b43-736d-4b02-8b22-8eef076d6613",
   "metadata": {},
   "outputs": [
    {
     "name": "stdout",
     "output_type": "stream",
     "text": [
      "13.183404420317952  % round trip Users claims CFAR\n"
     ]
    }
   ],
   "source": [
    "print(r_ECUsers*100.0/r_TCUsers,' % round trip Users claims CFAR')"
   ]
  },
  {
   "cell_type": "code",
   "execution_count": 19,
   "id": "4e5df32e-6aac-4679-a114-d7373bd0ba9c",
   "metadata": {},
   "outputs": [
    {
     "name": "stdout",
     "output_type": "stream",
     "text": [
      "Total o trip CFAR Users\n"
     ]
    },
    {
     "data": {
      "text/plain": [
       "1904"
      ]
     },
     "execution_count": 19,
     "metadata": {},
     "output_type": "execute_result"
    }
   ],
   "source": [
    "print('Total o trip CFAR Users')\n",
    "o_TCUsers = len(selected_CFAR[(selected_CFAR['attached']==1) &(selected_CFAR['trip_type']=='o')])\n",
    "o_TCUsers"
   ]
  },
  {
   "cell_type": "code",
   "execution_count": 20,
   "id": "45f23a24-1bb3-4b15-b300-ee8331aeb64c",
   "metadata": {},
   "outputs": [
    {
     "name": "stdout",
     "output_type": "stream",
     "text": [
      "Total o trip CFAR Users who exercised CFAR\n"
     ]
    },
    {
     "data": {
      "text/plain": [
       "273"
      ]
     },
     "execution_count": 20,
     "metadata": {},
     "output_type": "execute_result"
    }
   ],
   "source": [
    "print('Total o trip CFAR Users who exercised CFAR')\n",
    "o_ECUsers= len(selected_CFAR[(selected_CFAR['attached']==1) &(selected_CFAR['trip_type']=='o') &(selected_CFAR['exercised']==1)])\n",
    "o_ECUsers"
   ]
  },
  {
   "cell_type": "code",
   "execution_count": 21,
   "id": "7911c090-1e98-4a97-837c-92e993900092",
   "metadata": {},
   "outputs": [
    {
     "name": "stdout",
     "output_type": "stream",
     "text": [
      "14.338235294117647  % one way trip Users claims CFAR\n"
     ]
    }
   ],
   "source": [
    "print(o_ECUsers*100.0/o_TCUsers,' % one way trip Users claims CFAR')"
   ]
  },
  {
   "cell_type": "markdown",
   "id": "bb2f73c5-737d-4f5c-96d8-aa3133c75a32",
   "metadata": {},
   "source": [
    "###### One Way Trip Users have slightly higher rate of exercising CFAR feature. NOt having enough difference to set price based on Trip Type."
   ]
  },
  {
   "cell_type": "markdown",
   "id": "da9bb4a6-4da1-46da-96db-33dfc95f70d6",
   "metadata": {},
   "source": [
    "### Price based tendancy to purchase CFAR feature"
   ]
  },
  {
   "cell_type": "code",
   "execution_count": 66,
   "id": "0f40ba21-e646-4c54-93d7-38e87f516a20",
   "metadata": {},
   "outputs": [
    {
     "data": {
      "text/plain": [
       "<AxesSubplot:>"
      ]
     },
     "execution_count": 66,
     "metadata": {},
     "output_type": "execute_result"
    },
    {
     "data": {
      "image/png": "[encoded data removed]",
      "text/plain": [
       "<Figure size 432x288 with 1 Axes>"
      ]
     },
     "metadata": {
      "needs_background": "light"
     },
     "output_type": "display_data"
    }
   ],
   "source": [
    "selected_CFAR[selected_CFAR['attached']==1]['fare_price'].hist(bins=10)"
   ]
  },
  {
   "cell_type": "code",
   "execution_count": 68,
   "id": "76b4ed0c-b739-4835-8334-66c34aba5ff6",
   "metadata": {},
   "outputs": [
    {
     "data": {
      "text/plain": [
       "<AxesSubplot:>"
      ]
     },
     "execution_count": 68,
     "metadata": {},
     "output_type": "execute_result"
    },
    {
     "data": {
      "image/png": "[encoded data removed]",
      "text/plain": [
       "<Figure size 432x288 with 1 Axes>"
      ]
     },
     "metadata": {
      "needs_background": "light"
     },
     "output_type": "display_data"
    }
   ],
   "source": [
    "selected_CFAR[selected_CFAR['attached']==0]['fare_price'].hist(bins=10)"
   ]
  },
  {
   "cell_type": "markdown",
   "id": "1e63b2e2-afc0-4994-880a-d2f7d137893e",
   "metadata": {},
   "source": [
    "#### Distribution is follows same trend in attached and Non-attached CFAR feature."
   ]
  },
  {
   "cell_type": "markdown",
   "id": "8ce540c3-ff67-4b3f-8fa1-9a32f02fb1b9",
   "metadata": {},
   "source": [
    "# Machine Learning Model for predicting User of CFAR User\n",
    "i.e. classiying attached based on data"
   ]
  },
  {
   "cell_type": "code",
   "execution_count": 22,
   "id": "45e16c8c-308b-444a-ab1c-8dab533bb72c",
   "metadata": {},
   "outputs": [],
   "source": [
    "import sklearn as sk"
   ]
  },
  {
   "cell_type": "markdown",
   "id": "39964c05-53de-4318-9b16-1299d4dbe07f",
   "metadata": {},
   "source": [
    "## Preparing Data"
   ]
  },
  {
   "cell_type": "code",
   "execution_count": 23,
   "id": "41b8264f-616b-468d-ac0c-1a5635662e7a",
   "metadata": {},
   "outputs": [
    {
     "data": {
      "text/plain": [
       "Index(['booking_date_utc', 'departure_date_utc', 'return_date_utc',\n",
       "       'airport_origin', 'airport_destination', 'country_origin',\n",
       "       'country_destination', 'airline', 'fare_price', 'shelf_level',\n",
       "       'advance', 'num_pax', 'trip_type', 'premium_pct', 'premium_per_pax',\n",
       "       'attached', 'exercised'],\n",
       "      dtype='object')"
      ]
     },
     "execution_count": 23,
     "metadata": {},
     "output_type": "execute_result"
    }
   ],
   "source": [
    "cfar_data.columns"
   ]
  },
  {
   "cell_type": "code",
   "execution_count": 24,
   "id": "ae44db22-029f-4d14-9d82-04a071c33d3a",
   "metadata": {},
   "outputs": [
    {
     "data": {
      "text/html": [
       "<div>\n",
       "<style scoped>\n",
       "    .dataframe tbody tr th:only-of-type {\n",
       "        vertical-align: middle;\n",
       "    }\n",
       "\n",
       "    .dataframe tbody tr th {\n",
       "        vertical-align: top;\n",
       "    }\n",
       "\n",
       "    .dataframe thead th {\n",
       "        text-align: right;\n",
       "    }\n",
       "</style>\n",
       "<table border=\"1\" class=\"dataframe\">\n",
       "  <thead>\n",
       "    <tr style=\"text-align: right;\">\n",
       "      <th></th>\n",
       "      <th>airport_origin</th>\n",
       "      <th>airport_destination</th>\n",
       "      <th>country_origin</th>\n",
       "      <th>country_destination</th>\n",
       "      <th>airline</th>\n",
       "      <th>fare_price</th>\n",
       "      <th>shelf_level</th>\n",
       "      <th>advance</th>\n",
       "      <th>num_pax</th>\n",
       "      <th>trip_type</th>\n",
       "      <th>premium_pct</th>\n",
       "      <th>attached</th>\n",
       "      <th>exercised</th>\n",
       "    </tr>\n",
       "  </thead>\n",
       "  <tbody>\n",
       "    <tr>\n",
       "      <th>0</th>\n",
       "      <td>DPS</td>\n",
       "      <td>LBJ</td>\n",
       "      <td>ID</td>\n",
       "      <td>ID</td>\n",
       "      <td>QZ</td>\n",
       "      <td>$123.22</td>\n",
       "      <td>1</td>\n",
       "      <td>26</td>\n",
       "      <td>1</td>\n",
       "      <td>r</td>\n",
       "      <td>28.00%</td>\n",
       "      <td>1</td>\n",
       "      <td>0</td>\n",
       "    </tr>\n",
       "    <tr>\n",
       "      <th>1</th>\n",
       "      <td>ORY</td>\n",
       "      <td>CTA</td>\n",
       "      <td>FR</td>\n",
       "      <td>IT</td>\n",
       "      <td>TO</td>\n",
       "      <td>$44.66</td>\n",
       "      <td>0</td>\n",
       "      <td>39</td>\n",
       "      <td>1</td>\n",
       "      <td>o</td>\n",
       "      <td>30.00%</td>\n",
       "      <td>0</td>\n",
       "      <td>0</td>\n",
       "    </tr>\n",
       "    <tr>\n",
       "      <th>2</th>\n",
       "      <td>MEX</td>\n",
       "      <td>CUN</td>\n",
       "      <td>MX</td>\n",
       "      <td>MX</td>\n",
       "      <td>VB</td>\n",
       "      <td>$67.19</td>\n",
       "      <td>1</td>\n",
       "      <td>0</td>\n",
       "      <td>2</td>\n",
       "      <td>o</td>\n",
       "      <td>20.00%</td>\n",
       "      <td>0</td>\n",
       "      <td>0</td>\n",
       "    </tr>\n",
       "    <tr>\n",
       "      <th>3</th>\n",
       "      <td>YHZ</td>\n",
       "      <td>YYZ</td>\n",
       "      <td>CA</td>\n",
       "      <td>CA</td>\n",
       "      <td>WO</td>\n",
       "      <td>$136.57</td>\n",
       "      <td>0</td>\n",
       "      <td>85</td>\n",
       "      <td>2</td>\n",
       "      <td>r</td>\n",
       "      <td>17.00%</td>\n",
       "      <td>0</td>\n",
       "      <td>0</td>\n",
       "    </tr>\n",
       "    <tr>\n",
       "      <th>4</th>\n",
       "      <td>JFK</td>\n",
       "      <td>MIA</td>\n",
       "      <td>US</td>\n",
       "      <td>US</td>\n",
       "      <td>B6</td>\n",
       "      <td>$173.20</td>\n",
       "      <td>0</td>\n",
       "      <td>22</td>\n",
       "      <td>1</td>\n",
       "      <td>r</td>\n",
       "      <td>16.00%</td>\n",
       "      <td>1</td>\n",
       "      <td>1</td>\n",
       "    </tr>\n",
       "  </tbody>\n",
       "</table>\n",
       "</div>"
      ],
      "text/plain": [
       "  airport_origin airport_destination country_origin country_destination  \\\n",
       "0            DPS                 LBJ             ID                  ID   \n",
       "1            ORY                 CTA             FR                  IT   \n",
       "2            MEX                 CUN             MX                  MX   \n",
       "3            YHZ                 YYZ             CA                  CA   \n",
       "4            JFK                 MIA             US                  US   \n",
       "\n",
       "  airline fare_price  shelf_level  advance  num_pax trip_type premium_pct  \\\n",
       "0      QZ   $123.22             1       26        1         r      28.00%   \n",
       "1      TO    $44.66             0       39        1         o      30.00%   \n",
       "2      VB    $67.19             1        0        2         o      20.00%   \n",
       "3      WO   $136.57             0       85        2         r      17.00%   \n",
       "4      B6   $173.20             0       22        1         r      16.00%   \n",
       "\n",
       "   attached  exercised  \n",
       "0         1          0  \n",
       "1         0          0  \n",
       "2         0          0  \n",
       "3         0          0  \n",
       "4         1          1  "
      ]
     },
     "execution_count": 24,
     "metadata": {},
     "output_type": "execute_result"
    }
   ],
   "source": [
    "model_data = cfar_data[['airport_origin','airport_destination','country_origin','country_destination','airline', 'fare_price', 'shelf_level','advance', 'num_pax', 'trip_type', 'premium_pct','attached', 'exercised']]\n",
    "model_data.head(5)"
   ]
  },
  {
   "cell_type": "code",
   "execution_count": null,
   "id": "80a8e5dd-e708-4873-b2e3-d02903d0bd4e",
   "metadata": {},
   "outputs": [],
   "source": []
  },
  {
   "cell_type": "code",
   "execution_count": 25,
   "id": "d9f09a1d-d4a9-45a6-a214-e5d166f36a27",
   "metadata": {},
   "outputs": [
    {
     "data": {
      "text/plain": [
       "airport_origin         object\n",
       "airport_destination    object\n",
       "country_origin         object\n",
       "country_destination    object\n",
       "airline                object\n",
       "fare_price             object\n",
       "shelf_level             int64\n",
       "advance                 int64\n",
       "num_pax                 int64\n",
       "trip_type              object\n",
       "premium_pct            object\n",
       "attached                int64\n",
       "exercised               int64\n",
       "dtype: object"
      ]
     },
     "execution_count": 25,
     "metadata": {},
     "output_type": "execute_result"
    }
   ],
   "source": [
    "model_data.dtypes"
   ]
  },
  {
   "cell_type": "code",
   "execution_count": 26,
   "id": "91a09b48-aec6-4ed7-ad9c-8b3c9520e702",
   "metadata": {},
   "outputs": [
    {
     "name": "stderr",
     "output_type": "stream",
     "text": [
      "C:\\ProgramData\\Anaconda3\\envs\\py37\\lib\\site-packages\\pandas\\util\\_decorators.py:311: SettingWithCopyWarning: \n",
      "A value is trying to be set on a copy of a slice from a DataFrame\n",
      "\n",
      "See the caveats in the documentation: https://pandas.pydata.org/pandas-docs/stable/user_guide/indexing.html#returning-a-view-versus-a-copy\n",
      "  return func(*args, **kwargs)\n"
     ]
    }
   ],
   "source": [
    "model_data.dropna(inplace=True)"
   ]
  },
  {
   "cell_type": "code",
   "execution_count": 27,
   "id": "d18217b3-2e69-4885-a502-f2e59a290ee5",
   "metadata": {},
   "outputs": [
    {
     "data": {
      "text/plain": [
       "0"
      ]
     },
     "execution_count": 27,
     "metadata": {},
     "output_type": "execute_result"
    }
   ],
   "source": [
    "sum(model_data['premium_pct'].isnull())"
   ]
  },
  {
   "cell_type": "code",
   "execution_count": 28,
   "id": "59648f35-b4ec-4ce8-a81f-79f88dc52540",
   "metadata": {},
   "outputs": [
    {
     "name": "stderr",
     "output_type": "stream",
     "text": [
      "C:\\ProgramData\\Anaconda3\\envs\\py37\\lib\\site-packages\\ipykernel_launcher.py:1: SettingWithCopyWarning: \n",
      "A value is trying to be set on a copy of a slice from a DataFrame.\n",
      "Try using .loc[row_indexer,col_indexer] = value instead\n",
      "\n",
      "See the caveats in the documentation: https://pandas.pydata.org/pandas-docs/stable/user_guide/indexing.html#returning-a-view-versus-a-copy\n",
      "  \"\"\"Entry point for launching an IPython kernel.\n",
      "C:\\ProgramData\\Anaconda3\\envs\\py37\\lib\\site-packages\\ipykernel_launcher.py:2: SettingWithCopyWarning: \n",
      "A value is trying to be set on a copy of a slice from a DataFrame.\n",
      "Try using .loc[row_indexer,col_indexer] = value instead\n",
      "\n",
      "See the caveats in the documentation: https://pandas.pydata.org/pandas-docs/stable/user_guide/indexing.html#returning-a-view-versus-a-copy\n",
      "  \n",
      "C:\\ProgramData\\Anaconda3\\envs\\py37\\lib\\site-packages\\ipykernel_launcher.py:3: SettingWithCopyWarning: \n",
      "A value is trying to be set on a copy of a slice from a DataFrame.\n",
      "Try using .loc[row_indexer,col_indexer] = value instead\n",
      "\n",
      "See the caveats in the documentation: https://pandas.pydata.org/pandas-docs/stable/user_guide/indexing.html#returning-a-view-versus-a-copy\n",
      "  This is separate from the ipykernel package so we can avoid doing imports until\n"
     ]
    },
    {
     "data": {
      "text/html": [
       "<div>\n",
       "<style scoped>\n",
       "    .dataframe tbody tr th:only-of-type {\n",
       "        vertical-align: middle;\n",
       "    }\n",
       "\n",
       "    .dataframe tbody tr th {\n",
       "        vertical-align: top;\n",
       "    }\n",
       "\n",
       "    .dataframe thead th {\n",
       "        text-align: right;\n",
       "    }\n",
       "</style>\n",
       "<table border=\"1\" class=\"dataframe\">\n",
       "  <thead>\n",
       "    <tr style=\"text-align: right;\">\n",
       "      <th></th>\n",
       "      <th>airport_origin</th>\n",
       "      <th>airport_destination</th>\n",
       "      <th>country_origin</th>\n",
       "      <th>country_destination</th>\n",
       "      <th>airline</th>\n",
       "      <th>fare_price</th>\n",
       "      <th>shelf_level</th>\n",
       "      <th>advance</th>\n",
       "      <th>num_pax</th>\n",
       "      <th>trip_type</th>\n",
       "      <th>premium_pct</th>\n",
       "      <th>attached</th>\n",
       "      <th>exercised</th>\n",
       "    </tr>\n",
       "  </thead>\n",
       "  <tbody>\n",
       "    <tr>\n",
       "      <th>0</th>\n",
       "      <td>DPS</td>\n",
       "      <td>LBJ</td>\n",
       "      <td>ID</td>\n",
       "      <td>ID</td>\n",
       "      <td>QZ</td>\n",
       "      <td>123.22</td>\n",
       "      <td>1</td>\n",
       "      <td>26</td>\n",
       "      <td>1</td>\n",
       "      <td>r</td>\n",
       "      <td>28.0</td>\n",
       "      <td>1</td>\n",
       "      <td>0</td>\n",
       "    </tr>\n",
       "    <tr>\n",
       "      <th>1</th>\n",
       "      <td>ORY</td>\n",
       "      <td>CTA</td>\n",
       "      <td>FR</td>\n",
       "      <td>IT</td>\n",
       "      <td>TO</td>\n",
       "      <td>44.66</td>\n",
       "      <td>0</td>\n",
       "      <td>39</td>\n",
       "      <td>1</td>\n",
       "      <td>o</td>\n",
       "      <td>30.0</td>\n",
       "      <td>0</td>\n",
       "      <td>0</td>\n",
       "    </tr>\n",
       "    <tr>\n",
       "      <th>2</th>\n",
       "      <td>MEX</td>\n",
       "      <td>CUN</td>\n",
       "      <td>MX</td>\n",
       "      <td>MX</td>\n",
       "      <td>VB</td>\n",
       "      <td>67.19</td>\n",
       "      <td>1</td>\n",
       "      <td>0</td>\n",
       "      <td>2</td>\n",
       "      <td>o</td>\n",
       "      <td>20.0</td>\n",
       "      <td>0</td>\n",
       "      <td>0</td>\n",
       "    </tr>\n",
       "    <tr>\n",
       "      <th>3</th>\n",
       "      <td>YHZ</td>\n",
       "      <td>YYZ</td>\n",
       "      <td>CA</td>\n",
       "      <td>CA</td>\n",
       "      <td>WO</td>\n",
       "      <td>136.57</td>\n",
       "      <td>0</td>\n",
       "      <td>85</td>\n",
       "      <td>2</td>\n",
       "      <td>r</td>\n",
       "      <td>17.0</td>\n",
       "      <td>0</td>\n",
       "      <td>0</td>\n",
       "    </tr>\n",
       "    <tr>\n",
       "      <th>4</th>\n",
       "      <td>JFK</td>\n",
       "      <td>MIA</td>\n",
       "      <td>US</td>\n",
       "      <td>US</td>\n",
       "      <td>B6</td>\n",
       "      <td>173.20</td>\n",
       "      <td>0</td>\n",
       "      <td>22</td>\n",
       "      <td>1</td>\n",
       "      <td>r</td>\n",
       "      <td>16.0</td>\n",
       "      <td>1</td>\n",
       "      <td>1</td>\n",
       "    </tr>\n",
       "    <tr>\n",
       "      <th>...</th>\n",
       "      <td>...</td>\n",
       "      <td>...</td>\n",
       "      <td>...</td>\n",
       "      <td>...</td>\n",
       "      <td>...</td>\n",
       "      <td>...</td>\n",
       "      <td>...</td>\n",
       "      <td>...</td>\n",
       "      <td>...</td>\n",
       "      <td>...</td>\n",
       "      <td>...</td>\n",
       "      <td>...</td>\n",
       "      <td>...</td>\n",
       "    </tr>\n",
       "    <tr>\n",
       "      <th>87494</th>\n",
       "      <td>GUA</td>\n",
       "      <td>SJO</td>\n",
       "      <td>GT</td>\n",
       "      <td>CR</td>\n",
       "      <td>Y4</td>\n",
       "      <td>249.22</td>\n",
       "      <td>1</td>\n",
       "      <td>25</td>\n",
       "      <td>1</td>\n",
       "      <td>r</td>\n",
       "      <td>19.0</td>\n",
       "      <td>0</td>\n",
       "      <td>0</td>\n",
       "    </tr>\n",
       "    <tr>\n",
       "      <th>87495</th>\n",
       "      <td>LAX</td>\n",
       "      <td>GDL</td>\n",
       "      <td>US</td>\n",
       "      <td>MX</td>\n",
       "      <td>Y4</td>\n",
       "      <td>352.95</td>\n",
       "      <td>1</td>\n",
       "      <td>5</td>\n",
       "      <td>1</td>\n",
       "      <td>o</td>\n",
       "      <td>14.0</td>\n",
       "      <td>0</td>\n",
       "      <td>0</td>\n",
       "    </tr>\n",
       "    <tr>\n",
       "      <th>87496</th>\n",
       "      <td>MEX</td>\n",
       "      <td>MIA</td>\n",
       "      <td>MX</td>\n",
       "      <td>US</td>\n",
       "      <td>Y4</td>\n",
       "      <td>304.79</td>\n",
       "      <td>0</td>\n",
       "      <td>3</td>\n",
       "      <td>1</td>\n",
       "      <td>o</td>\n",
       "      <td>14.0</td>\n",
       "      <td>0</td>\n",
       "      <td>0</td>\n",
       "    </tr>\n",
       "    <tr>\n",
       "      <th>87497</th>\n",
       "      <td>MEX</td>\n",
       "      <td>BOG</td>\n",
       "      <td>MX</td>\n",
       "      <td>CO</td>\n",
       "      <td>Y4</td>\n",
       "      <td>149.71</td>\n",
       "      <td>0</td>\n",
       "      <td>38</td>\n",
       "      <td>2</td>\n",
       "      <td>o</td>\n",
       "      <td>23.0</td>\n",
       "      <td>0</td>\n",
       "      <td>0</td>\n",
       "    </tr>\n",
       "    <tr>\n",
       "      <th>87498</th>\n",
       "      <td>TIJ</td>\n",
       "      <td>CUL</td>\n",
       "      <td>MX</td>\n",
       "      <td>MX</td>\n",
       "      <td>Y4</td>\n",
       "      <td>161.66</td>\n",
       "      <td>1</td>\n",
       "      <td>12</td>\n",
       "      <td>3</td>\n",
       "      <td>r</td>\n",
       "      <td>20.0</td>\n",
       "      <td>0</td>\n",
       "      <td>0</td>\n",
       "    </tr>\n",
       "  </tbody>\n",
       "</table>\n",
       "<p>86482 rows × 13 columns</p>\n",
       "</div>"
      ],
      "text/plain": [
       "      airport_origin airport_destination country_origin country_destination  \\\n",
       "0                DPS                 LBJ             ID                  ID   \n",
       "1                ORY                 CTA             FR                  IT   \n",
       "2                MEX                 CUN             MX                  MX   \n",
       "3                YHZ                 YYZ             CA                  CA   \n",
       "4                JFK                 MIA             US                  US   \n",
       "...              ...                 ...            ...                 ...   \n",
       "87494            GUA                 SJO             GT                  CR   \n",
       "87495            LAX                 GDL             US                  MX   \n",
       "87496            MEX                 MIA             MX                  US   \n",
       "87497            MEX                 BOG             MX                  CO   \n",
       "87498            TIJ                 CUL             MX                  MX   \n",
       "\n",
       "      airline  fare_price  shelf_level  advance  num_pax trip_type  \\\n",
       "0          QZ      123.22            1       26        1         r   \n",
       "1          TO       44.66            0       39        1         o   \n",
       "2          VB       67.19            1        0        2         o   \n",
       "3          WO      136.57            0       85        2         r   \n",
       "4          B6      173.20            0       22        1         r   \n",
       "...       ...         ...          ...      ...      ...       ...   \n",
       "87494      Y4      249.22            1       25        1         r   \n",
       "87495      Y4      352.95            1        5        1         o   \n",
       "87496      Y4      304.79            0        3        1         o   \n",
       "87497      Y4      149.71            0       38        2         o   \n",
       "87498      Y4      161.66            1       12        3         r   \n",
       "\n",
       "       premium_pct  attached  exercised  \n",
       "0             28.0         1          0  \n",
       "1             30.0         0          0  \n",
       "2             20.0         0          0  \n",
       "3             17.0         0          0  \n",
       "4             16.0         1          1  \n",
       "...            ...       ...        ...  \n",
       "87494         19.0         0          0  \n",
       "87495         14.0         0          0  \n",
       "87496         14.0         0          0  \n",
       "87497         23.0         0          0  \n",
       "87498         20.0         0          0  \n",
       "\n",
       "[86482 rows x 13 columns]"
      ]
     },
     "execution_count": 28,
     "metadata": {},
     "output_type": "execute_result"
    }
   ],
   "source": [
    "model_data['fare_price'] = model_data['fare_price'].apply(lambda x : float(x[1:].replace(',','')))\n",
    "model_data['premium_pct'] = model_data['premium_pct'].str.strip()\n",
    "model_data['premium_pct'] = model_data['premium_pct'].apply(lambda x: float(x[:-1]))\n",
    "model_data"
   ]
  },
  {
   "cell_type": "code",
   "execution_count": 29,
   "id": "0f63ab42-bd1a-4343-b009-7bc25622fa0e",
   "metadata": {},
   "outputs": [
    {
     "data": {
      "text/plain": [
       "airport_origin          object\n",
       "airport_destination     object\n",
       "country_origin          object\n",
       "country_destination     object\n",
       "airline                 object\n",
       "fare_price             float64\n",
       "shelf_level              int64\n",
       "advance                  int64\n",
       "num_pax                  int64\n",
       "trip_type               object\n",
       "premium_pct            float64\n",
       "attached                 int64\n",
       "exercised                int64\n",
       "dtype: object"
      ]
     },
     "execution_count": 29,
     "metadata": {},
     "output_type": "execute_result"
    }
   ],
   "source": [
    "model_data.dtypes"
   ]
  },
  {
   "cell_type": "code",
   "execution_count": 30,
   "id": "f0919a9b-425b-4331-bae1-104d4f94698d",
   "metadata": {},
   "outputs": [
    {
     "name": "stderr",
     "output_type": "stream",
     "text": [
      "C:\\ProgramData\\Anaconda3\\envs\\py37\\lib\\site-packages\\ipykernel_launcher.py:5: SettingWithCopyWarning: \n",
      "A value is trying to be set on a copy of a slice from a DataFrame.\n",
      "Try using .loc[row_indexer,col_indexer] = value instead\n",
      "\n",
      "See the caveats in the documentation: https://pandas.pydata.org/pandas-docs/stable/user_guide/indexing.html#returning-a-view-versus-a-copy\n",
      "  \"\"\"\n"
     ]
    },
    {
     "data": {
      "text/html": [
       "<div>\n",
       "<style scoped>\n",
       "    .dataframe tbody tr th:only-of-type {\n",
       "        vertical-align: middle;\n",
       "    }\n",
       "\n",
       "    .dataframe tbody tr th {\n",
       "        vertical-align: top;\n",
       "    }\n",
       "\n",
       "    .dataframe thead th {\n",
       "        text-align: right;\n",
       "    }\n",
       "</style>\n",
       "<table border=\"1\" class=\"dataframe\">\n",
       "  <thead>\n",
       "    <tr style=\"text-align: right;\">\n",
       "      <th></th>\n",
       "      <th>airport_origin</th>\n",
       "      <th>airport_destination</th>\n",
       "      <th>country_origin</th>\n",
       "      <th>country_destination</th>\n",
       "      <th>airline</th>\n",
       "      <th>fare_price</th>\n",
       "      <th>shelf_level</th>\n",
       "      <th>advance</th>\n",
       "      <th>num_pax</th>\n",
       "      <th>trip_type</th>\n",
       "      <th>premium_pct</th>\n",
       "      <th>attached</th>\n",
       "      <th>exercised</th>\n",
       "    </tr>\n",
       "  </thead>\n",
       "  <tbody>\n",
       "    <tr>\n",
       "      <th>0</th>\n",
       "      <td>277</td>\n",
       "      <td>544</td>\n",
       "      <td>58</td>\n",
       "      <td>69</td>\n",
       "      <td>160</td>\n",
       "      <td>123.22</td>\n",
       "      <td>1</td>\n",
       "      <td>26</td>\n",
       "      <td>1</td>\n",
       "      <td>1</td>\n",
       "      <td>28.0</td>\n",
       "      <td>1</td>\n",
       "      <td>0</td>\n",
       "    </tr>\n",
       "    <tr>\n",
       "      <th>1</th>\n",
       "      <td>702</td>\n",
       "      <td>238</td>\n",
       "      <td>42</td>\n",
       "      <td>77</td>\n",
       "      <td>184</td>\n",
       "      <td>44.66</td>\n",
       "      <td>0</td>\n",
       "      <td>39</td>\n",
       "      <td>1</td>\n",
       "      <td>0</td>\n",
       "      <td>30.0</td>\n",
       "      <td>0</td>\n",
       "      <td>0</td>\n",
       "    </tr>\n",
       "    <tr>\n",
       "      <th>2</th>\n",
       "      <td>609</td>\n",
       "      <td>244</td>\n",
       "      <td>93</td>\n",
       "      <td>107</td>\n",
       "      <td>199</td>\n",
       "      <td>67.19</td>\n",
       "      <td>1</td>\n",
       "      <td>0</td>\n",
       "      <td>2</td>\n",
       "      <td>0</td>\n",
       "      <td>20.0</td>\n",
       "      <td>0</td>\n",
       "      <td>0</td>\n",
       "    </tr>\n",
       "    <tr>\n",
       "      <th>3</th>\n",
       "      <td>1006</td>\n",
       "      <td>1080</td>\n",
       "      <td>22</td>\n",
       "      <td>27</td>\n",
       "      <td>216</td>\n",
       "      <td>136.57</td>\n",
       "      <td>0</td>\n",
       "      <td>85</td>\n",
       "      <td>2</td>\n",
       "      <td>1</td>\n",
       "      <td>17.0</td>\n",
       "      <td>0</td>\n",
       "      <td>0</td>\n",
       "    </tr>\n",
       "    <tr>\n",
       "      <th>4</th>\n",
       "      <td>481</td>\n",
       "      <td>637</td>\n",
       "      <td>135</td>\n",
       "      <td>152</td>\n",
       "      <td>40</td>\n",
       "      <td>173.20</td>\n",
       "      <td>0</td>\n",
       "      <td>22</td>\n",
       "      <td>1</td>\n",
       "      <td>1</td>\n",
       "      <td>16.0</td>\n",
       "      <td>1</td>\n",
       "      <td>1</td>\n",
       "    </tr>\n",
       "    <tr>\n",
       "      <th>...</th>\n",
       "      <td>...</td>\n",
       "      <td>...</td>\n",
       "      <td>...</td>\n",
       "      <td>...</td>\n",
       "      <td>...</td>\n",
       "      <td>...</td>\n",
       "      <td>...</td>\n",
       "      <td>...</td>\n",
       "      <td>...</td>\n",
       "      <td>...</td>\n",
       "      <td>...</td>\n",
       "      <td>...</td>\n",
       "      <td>...</td>\n",
       "    </tr>\n",
       "    <tr>\n",
       "      <th>87494</th>\n",
       "      <td>395</td>\n",
       "      <td>880</td>\n",
       "      <td>50</td>\n",
       "      <td>34</td>\n",
       "      <td>227</td>\n",
       "      <td>249.22</td>\n",
       "      <td>1</td>\n",
       "      <td>25</td>\n",
       "      <td>1</td>\n",
       "      <td>1</td>\n",
       "      <td>19.0</td>\n",
       "      <td>0</td>\n",
       "      <td>0</td>\n",
       "    </tr>\n",
       "    <tr>\n",
       "      <th>87495</th>\n",
       "      <td>525</td>\n",
       "      <td>369</td>\n",
       "      <td>135</td>\n",
       "      <td>107</td>\n",
       "      <td>227</td>\n",
       "      <td>352.95</td>\n",
       "      <td>1</td>\n",
       "      <td>5</td>\n",
       "      <td>1</td>\n",
       "      <td>0</td>\n",
       "      <td>14.0</td>\n",
       "      <td>0</td>\n",
       "      <td>0</td>\n",
       "    </tr>\n",
       "    <tr>\n",
       "      <th>87496</th>\n",
       "      <td>609</td>\n",
       "      <td>637</td>\n",
       "      <td>93</td>\n",
       "      <td>152</td>\n",
       "      <td>227</td>\n",
       "      <td>304.79</td>\n",
       "      <td>0</td>\n",
       "      <td>3</td>\n",
       "      <td>1</td>\n",
       "      <td>0</td>\n",
       "      <td>14.0</td>\n",
       "      <td>0</td>\n",
       "      <td>0</td>\n",
       "    </tr>\n",
       "    <tr>\n",
       "      <th>87497</th>\n",
       "      <td>609</td>\n",
       "      <td>133</td>\n",
       "      <td>93</td>\n",
       "      <td>33</td>\n",
       "      <td>227</td>\n",
       "      <td>149.71</td>\n",
       "      <td>0</td>\n",
       "      <td>38</td>\n",
       "      <td>2</td>\n",
       "      <td>0</td>\n",
       "      <td>23.0</td>\n",
       "      <td>0</td>\n",
       "      <td>0</td>\n",
       "    </tr>\n",
       "    <tr>\n",
       "      <th>87498</th>\n",
       "      <td>921</td>\n",
       "      <td>243</td>\n",
       "      <td>93</td>\n",
       "      <td>107</td>\n",
       "      <td>227</td>\n",
       "      <td>161.66</td>\n",
       "      <td>1</td>\n",
       "      <td>12</td>\n",
       "      <td>3</td>\n",
       "      <td>1</td>\n",
       "      <td>20.0</td>\n",
       "      <td>0</td>\n",
       "      <td>0</td>\n",
       "    </tr>\n",
       "  </tbody>\n",
       "</table>\n",
       "<p>86482 rows × 13 columns</p>\n",
       "</div>"
      ],
      "text/plain": [
       "       airport_origin  airport_destination  country_origin  \\\n",
       "0                 277                  544              58   \n",
       "1                 702                  238              42   \n",
       "2                 609                  244              93   \n",
       "3                1006                 1080              22   \n",
       "4                 481                  637             135   \n",
       "...               ...                  ...             ...   \n",
       "87494             395                  880              50   \n",
       "87495             525                  369             135   \n",
       "87496             609                  637              93   \n",
       "87497             609                  133              93   \n",
       "87498             921                  243              93   \n",
       "\n",
       "       country_destination  airline  fare_price  shelf_level  advance  \\\n",
       "0                       69      160      123.22            1       26   \n",
       "1                       77      184       44.66            0       39   \n",
       "2                      107      199       67.19            1        0   \n",
       "3                       27      216      136.57            0       85   \n",
       "4                      152       40      173.20            0       22   \n",
       "...                    ...      ...         ...          ...      ...   \n",
       "87494                   34      227      249.22            1       25   \n",
       "87495                  107      227      352.95            1        5   \n",
       "87496                  152      227      304.79            0        3   \n",
       "87497                   33      227      149.71            0       38   \n",
       "87498                  107      227      161.66            1       12   \n",
       "\n",
       "       num_pax  trip_type  premium_pct  attached  exercised  \n",
       "0            1          1         28.0         1          0  \n",
       "1            1          0         30.0         0          0  \n",
       "2            2          0         20.0         0          0  \n",
       "3            2          1         17.0         0          0  \n",
       "4            1          1         16.0         1          1  \n",
       "...        ...        ...          ...       ...        ...  \n",
       "87494        1          1         19.0         0          0  \n",
       "87495        1          0         14.0         0          0  \n",
       "87496        1          0         14.0         0          0  \n",
       "87497        2          0         23.0         0          0  \n",
       "87498        3          1         20.0         0          0  \n",
       "\n",
       "[86482 rows x 13 columns]"
      ]
     },
     "execution_count": 30,
     "metadata": {},
     "output_type": "execute_result"
    }
   ],
   "source": [
    "from sklearn import preprocessing\n",
    "le = preprocessing.LabelEncoder()\n",
    "fields_to_be_encoded = ['airport_origin','airport_destination','country_origin','country_destination','airline','trip_type']\n",
    "for f in fields_to_be_encoded:\n",
    "    model_data[f] = le.fit_transform(model_data[f])\n",
    "model_data"
   ]
  },
  {
   "cell_type": "code",
   "execution_count": 31,
   "id": "05d74462-9704-4032-ae4a-9bcffd804098",
   "metadata": {},
   "outputs": [],
   "source": [
    "x = model_data[['airport_origin', 'airport_destination', 'country_origin','country_destination', 'airline', 'fare_price', 'shelf_level','advance', 'num_pax', 'trip_type', 'premium_pct']]\n",
    "y = model_data['attached']"
   ]
  },
  {
   "cell_type": "code",
   "execution_count": 32,
   "id": "0810ec05-3632-489b-ab08-5c89eec10799",
   "metadata": {},
   "outputs": [],
   "source": [
    "from sklearn.model_selection import train_test_split\n",
    "X_train, X_test, y_train, y_test = train_test_split(x, y, test_size=0.2, random_state=42)"
   ]
  },
  {
   "cell_type": "markdown",
   "id": "8b6291d1-bd24-48e2-9afb-f0544102be05",
   "metadata": {},
   "source": [
    "### Model Selection\n",
    "#### DecisionTree Classifier"
   ]
  },
  {
   "cell_type": "code",
   "execution_count": 35,
   "id": "a5154de2-ca43-4323-ae7a-679c390e0e21",
   "metadata": {},
   "outputs": [
    {
     "data": {
      "text/plain": [
       "DecisionTreeClassifier(random_state=42)"
      ]
     },
     "execution_count": 35,
     "metadata": {},
     "output_type": "execute_result"
    }
   ],
   "source": [
    "from sklearn.tree import DecisionTreeClassifier\n",
    "clf_decision_tree = DecisionTreeClassifier(random_state=42)\n",
    "clf_decision_tree.fit(X_train,y_train)"
   ]
  },
  {
   "cell_type": "markdown",
   "id": "2ff37405-ba6e-429a-806f-c25c3425b1b2",
   "metadata": {},
   "source": [
    "#### RandomForest Classifier"
   ]
  },
  {
   "cell_type": "code",
   "execution_count": 43,
   "id": "e2425792-7a6f-4140-8180-08dca652799c",
   "metadata": {},
   "outputs": [
    {
     "data": {
      "text/plain": [
       "RandomForestClassifier(random_state=42)"
      ]
     },
     "execution_count": 43,
     "metadata": {},
     "output_type": "execute_result"
    }
   ],
   "source": [
    "from sklearn.ensemble  import RandomForestClassifier\n",
    "clf_random_forest = RandomForestClassifier(random_state=42)\n",
    "clf_random_forest.fit(X_train,y_train)"
   ]
  },
  {
   "cell_type": "markdown",
   "id": "4d1d9222-9883-4750-bd5a-cb54a87e4e00",
   "metadata": {},
   "source": [
    "#### GradientBoost Classifier"
   ]
  },
  {
   "cell_type": "code",
   "execution_count": 44,
   "id": "a8bf9be9-adca-45ee-8e6d-6dd8f14165d6",
   "metadata": {},
   "outputs": [
    {
     "data": {
      "text/plain": [
       "GradientBoostingClassifier(random_state=42)"
      ]
     },
     "execution_count": 44,
     "metadata": {},
     "output_type": "execute_result"
    }
   ],
   "source": [
    "from sklearn.ensemble import GradientBoostingClassifier\n",
    "clf_gradient_boosting = GradientBoostingClassifier(random_state=42)\n",
    "clf_gradient_boosting.fit(X_train,y_train)"
   ]
  },
  {
   "cell_type": "markdown",
   "id": "2bfb08d5-e338-4b8e-b1b9-dd219ab7949a",
   "metadata": {},
   "source": [
    "## Evaluating Classification"
   ]
  },
  {
   "cell_type": "code",
   "execution_count": 47,
   "id": "0bb349fd-b875-4971-8723-63660fa16550",
   "metadata": {},
   "outputs": [],
   "source": [
    "from sklearn.metrics import f1_score\n",
    "from sklearn.metrics import accuracy_score\n",
    "from sklearn.metrics import recall_score\n",
    "from sklearn.metrics import precision_score\n",
    "\n",
    "def score(y_true,y_pred):\n",
    "    scores = {}\n",
    "    scores['f1_score'] = f1_score(y_true,y_pred)\n",
    "    scores['accuracy_score'] = accuracy_score(y_true,y_pred)\n",
    "    scores['recall_score'] = recall_score(y_true,y_pred)\n",
    "    scores['precision_score'] = precision_score(y_true,y_pred)\n",
    "    return scores"
   ]
  },
  {
   "cell_type": "markdown",
   "id": "19f40186-9be6-4ed2-84a2-341fa6c0cca4",
   "metadata": {},
   "source": [
    "#### Decision Tree classfication score"
   ]
  },
  {
   "cell_type": "code",
   "execution_count": 48,
   "id": "606dae17-8259-4937-a81c-b16397c7e40c",
   "metadata": {},
   "outputs": [
    {
     "data": {
      "text/plain": [
       "{'f1_score': 0.1123152709359606,\n",
       " 'accuracy_score': 0.8958200844077008,\n",
       " 'recall_score': 0.12751677852348994,\n",
       " 'precision_score': 0.10035211267605634}"
      ]
     },
     "execution_count": 48,
     "metadata": {},
     "output_type": "execute_result"
    }
   ],
   "source": [
    "score(y_test,clf_decision_tree.predict(X_test))"
   ]
  },
  {
   "cell_type": "markdown",
   "id": "872a886b-7ced-425c-90a1-996e1918ff4d",
   "metadata": {},
   "source": [
    "#### Random Forest classfication score"
   ]
  },
  {
   "cell_type": "code",
   "execution_count": 49,
   "id": "2f3e0a17-3f7d-4de0-92ac-2a7ff947c25b",
   "metadata": {},
   "outputs": [
    {
     "data": {
      "text/plain": [
       "{'f1_score': 0.028415300546448086,\n",
       " 'accuracy_score': 0.9486038041278835,\n",
       " 'recall_score': 0.0145413870246085,\n",
       " 'precision_score': 0.6190476190476191}"
      ]
     },
     "execution_count": 49,
     "metadata": {},
     "output_type": "execute_result"
    }
   ],
   "source": [
    "score(y_test,clf_random_forest.predict(X_test))"
   ]
  },
  {
   "cell_type": "markdown",
   "id": "5c2d6927-5666-46b1-8481-d5209f339cb2",
   "metadata": {},
   "source": [
    "#### Gradient Boosting classfication score"
   ]
  },
  {
   "cell_type": "code",
   "execution_count": 51,
   "id": "d2837042-6be7-4872-9d45-d57ccef5b1eb",
   "metadata": {},
   "outputs": [
    {
     "data": {
      "text/plain": [
       "{'f1_score': 0.0,\n",
       " 'accuracy_score': 0.9481991096721974,\n",
       " 'recall_score': 0.0,\n",
       " 'precision_score': 0.0}"
      ]
     },
     "execution_count": 51,
     "metadata": {},
     "output_type": "execute_result"
    }
   ],
   "source": [
    "score(y_test,clf_gradient_boosting.predict(X_test))"
   ]
  },
  {
   "cell_type": "markdown",
   "id": "4051c8e2-9e94-4bbb-8274-3cbd1e3fecc7",
   "metadata": {},
   "source": [
    "# Machine Learning Model for exercising CFAR prediction"
   ]
  },
  {
   "cell_type": "code",
   "execution_count": 54,
   "id": "d361ab7c-22be-4429-b110-75913519b479",
   "metadata": {},
   "outputs": [],
   "source": [
    "model_data_e = model_data[model_data['attached']==1]\n",
    "x = model_data_e[['airport_origin', 'airport_destination', 'country_origin','country_destination', 'airline', 'fare_price', 'shelf_level','advance', 'num_pax', 'trip_type', 'premium_pct']]\n",
    "y = model_data_e['exercised']"
   ]
  },
  {
   "cell_type": "code",
   "execution_count": 55,
   "id": "8c32af4e-130f-4fc0-b67e-240dc15645aa",
   "metadata": {},
   "outputs": [],
   "source": [
    "X_train, X_test, y_train, y_test = train_test_split(x, y, test_size=0.2, random_state=42)"
   ]
  },
  {
   "cell_type": "code",
   "execution_count": 56,
   "id": "68f6ae49-5752-4150-856b-7d99e9897855",
   "metadata": {},
   "outputs": [
    {
     "data": {
      "text/plain": [
       "DecisionTreeClassifier(random_state=42)"
      ]
     },
     "execution_count": 56,
     "metadata": {},
     "output_type": "execute_result"
    }
   ],
   "source": [
    "from sklearn.tree import DecisionTreeClassifier\n",
    "clf_decision_tree = DecisionTreeClassifier(random_state=42)\n",
    "clf_decision_tree.fit(X_train,y_train)"
   ]
  },
  {
   "cell_type": "code",
   "execution_count": 63,
   "id": "d69f59ac-bac3-43c5-ae16-08d998a00e11",
   "metadata": {},
   "outputs": [
    {
     "data": {
      "text/plain": [
       "RandomForestClassifier(random_state=4)"
      ]
     },
     "execution_count": 63,
     "metadata": {},
     "output_type": "execute_result"
    }
   ],
   "source": [
    "from sklearn.ensemble  import RandomForestClassifier\n",
    "clf_random_forest = RandomForestClassifier(random_state=4)\n",
    "clf_random_forest.fit(X_train,y_train)"
   ]
  },
  {
   "cell_type": "code",
   "execution_count": 59,
   "id": "3a3880ec-1efc-4bda-a227-be6f7bb0f484",
   "metadata": {},
   "outputs": [
    {
     "data": {
      "text/plain": [
       "GradientBoostingClassifier(learning_rate=1.0, random_state=42)"
      ]
     },
     "execution_count": 59,
     "metadata": {},
     "output_type": "execute_result"
    }
   ],
   "source": [
    "from sklearn.ensemble import GradientBoostingClassifier\n",
    "clf_gradient_boosting = GradientBoostingClassifier(n_estimators=100, learning_rate=1.0,random_state=42)\n",
    "clf_gradient_boosting.fit(X_train,y_train)"
   ]
  },
  {
   "cell_type": "code",
   "execution_count": 60,
   "id": "c1a991bc-38ab-4240-b129-740e4cc10e3c",
   "metadata": {},
   "outputs": [
    {
     "data": {
      "text/plain": [
       "{'f1_score': 0.18726591760299624,\n",
       " 'accuracy_score': 0.7559055118110236,\n",
       " 'recall_score': 0.1953125,\n",
       " 'precision_score': 0.17985611510791366}"
      ]
     },
     "execution_count": 60,
     "metadata": {},
     "output_type": "execute_result"
    }
   ],
   "source": [
    "score(y_test,clf_decision_tree.predict(X_test))"
   ]
  },
  {
   "cell_type": "code",
   "execution_count": 64,
   "id": "4f773cb0-d7a9-41f9-bdb1-1617bd7114d9",
   "metadata": {},
   "outputs": [
    {
     "data": {
      "text/plain": [
       "{'f1_score': 0.0,\n",
       " 'accuracy_score': 0.8526434195725534,\n",
       " 'recall_score': 0.0,\n",
       " 'precision_score': 0.0}"
      ]
     },
     "execution_count": 64,
     "metadata": {},
     "output_type": "execute_result"
    }
   ],
   "source": [
    "score(y_test,clf_random_forest.predict(X_test))"
   ]
  },
  {
   "cell_type": "code",
   "execution_count": 62,
   "id": "a8a8eb30-2cab-4d96-8e56-48bb7825daa3",
   "metadata": {},
   "outputs": [
    {
     "data": {
      "text/plain": [
       "{'f1_score': 0.0878048780487805,\n",
       " 'accuracy_score': 0.7896512935883014,\n",
       " 'recall_score': 0.0703125,\n",
       " 'precision_score': 0.11688311688311688}"
      ]
     },
     "execution_count": 62,
     "metadata": {},
     "output_type": "execute_result"
    }
   ],
   "source": [
    "score(y_test,clf_gradient_boosting.predict(X_test))"
   ]
  },
  {
   "cell_type": "code",
   "execution_count": null,
   "id": "7e40a12b-c5ee-4b63-84d0-7527e715afb4",
   "metadata": {},
   "outputs": [],
   "source": []
  }
 ],
 "metadata": {
  "kernelspec": {
   "display_name": "Python 3 (ipykernel)",
   "language": "python",
   "name": "python3"
  },
  "language_info": {
   "codemirror_mode": {
    "name": "ipython",
    "version": 3
   },
   "file_extension": ".py",
   "mimetype": "text/x-python",
   "name": "python",
   "nbconvert_exporter": "python",
   "pygments_lexer": "ipython3",
   "version": "3.7.13"
  }
 },
 "nbformat": 4,
 "nbformat_minor": 5
}
